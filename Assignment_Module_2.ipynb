{
  "nbformat": 4,
  "nbformat_minor": 0,
  "metadata": {
    "colab": {
      "provenance": []
    },
    "kernelspec": {
      "name": "python3",
      "display_name": "Python 3"
    },
    "language_info": {
      "name": "python"
    }
  },
  "cells": [
    {
      "cell_type": "markdown",
      "source": [
        "Pythyon Assignment 1\n"
      ],
      "metadata": {
        "id": "l_5tqS11Eovn"
      }
    },
    {
      "cell_type": "markdown",
      "source": [
        "**1A).** **Python Key Features are** :\n",
        "1. Ease to learn - simple language.\n",
        "2. Can be useful in Web Development and Software Development.\n",
        "3. Mathematical Research.\n",
        "4. Analyzing of data and Interpreting of Graphs.\n",
        "5. Machine learning, DL, NLP, AI, DV tool and DA tool.\n",
        "**Why Important means :** It has simple syntax. It works in all different platforms(OS and Windows)."
      ],
      "metadata": {
        "id": "hKih5TOHEyAr"
      }
    },
    {
      "cell_type": "markdown",
      "source": [
        "**3A).** Mutable : Mutable can help to modified in memory Location.\n",
        "\n",
        "\n",
        "```\n",
        "# This is formatted as code\n",
        "```\n",
        "\n"
      ],
      "metadata": {
        "id": "el6MJgvDF1Rx"
      }
    },
    {
      "cell_type": "markdown",
      "source": [
        "Example of Mutable :"
      ],
      "metadata": {
        "id": "jLcaazaVGYvP"
      }
    },
    {
      "cell_type": "code",
      "source": [
        "list_names = [\"Apple\",\"Banana\",\"Orange\",\"kiwi\"]\n",
        "print(list_names)\n",
        "list_names[0] = \"Mango\"\n",
        "print(list_names)\n"
      ],
      "metadata": {
        "colab": {
          "base_uri": "https://localhost:8080/"
        },
        "id": "sW6YKYtCGVfk",
        "outputId": "4e121fa5-1e3b-4f7d-b69e-8b2b59d540ac"
      },
      "execution_count": null,
      "outputs": [
        {
          "output_type": "stream",
          "name": "stdout",
          "text": [
            "['Apple', 'Banana', 'Orange', 'kiwi']\n",
            "['Mango', 'Banana', 'Orange', 'kiwi']\n"
          ]
        }
      ]
    },
    {
      "cell_type": "markdown",
      "source": [
        " b) Immutable means, we cannot modified the value saved in memory location."
      ],
      "metadata": {
        "id": "BTJBBRYXErLv"
      }
    },
    {
      "cell_type": "code",
      "source": [
        "from os import intigroups\n",
        "b=\"Anu\"\n",
        "b=[0]=intigroups"
      ],
      "metadata": {
        "colab": {
          "base_uri": "https://localhost:8080/",
          "height": 106
        },
        "id": "FZZ9dR6yIu5b",
        "outputId": "e623f69f-bd82-45bb-b909-40f57d29504d"
      },
      "execution_count": null,
      "outputs": [
        {
          "output_type": "error",
          "ename": "SyntaxError",
          "evalue": "cannot assign to literal (<ipython-input-90-967981ab6950>, line 3)",
          "traceback": [
            "\u001b[0;36m  File \u001b[0;32m\"<ipython-input-90-967981ab6950>\"\u001b[0;36m, line \u001b[0;32m3\u001b[0m\n\u001b[0;31m    b=[0]=intigroups\u001b[0m\n\u001b[0m       ^\u001b[0m\n\u001b[0;31mSyntaxError\u001b[0m\u001b[0;31m:\u001b[0m cannot assign to literal\n"
          ]
        }
      ]
    },
    {
      "cell_type": "markdown",
      "source": [
        "Sting cannot support mutability only list can does it."
      ],
      "metadata": {
        "id": "rFOPpRFFJ2r8"
      }
    },
    {
      "cell_type": "markdown",
      "source": [
        "**4A)** Types of Opertors :     \n",
        "\n",
        "1. Arthimatic Operators :\n",
        "a) \"+ Additions\" - Example b)\"- Subtraction\" - Example C)\" * Multiplication\" - Example D) \"/Division\" - Example. E)\"//Floor\" - Example (nearest lower number) F)\"%Mod\" - Example.\n"
      ],
      "metadata": {
        "id": "0jg84VoKKOBc"
      }
    },
    {
      "cell_type": "code",
      "source": [
        "a = 5\n",
        "b =7\n",
        "add = a+b\n",
        "sub = a-b\n",
        "mul = a*b\n",
        "div = a/b\n",
        "floor = a//b\n",
        "mod = a%b\n",
        "print(add,sub,mul,div,floor,mod)"
      ],
      "metadata": {
        "colab": {
          "base_uri": "https://localhost:8080/"
        },
        "id": "XJVOl0VEO_iC",
        "outputId": "bf244a0e-cd68-408b-a002-fe63494710ba"
      },
      "execution_count": null,
      "outputs": [
        {
          "output_type": "stream",
          "name": "stdout",
          "text": [
            "12 -2 35 0.7142857142857143 0 5\n"
          ]
        }
      ]
    },
    {
      "cell_type": "markdown",
      "source": [
        "B) Comparison operator : its helps to compare of two operands.\n",
        "\n",
        "example <\n",
        "<="
      ],
      "metadata": {
        "id": "LcUyFS9IRkx6"
      }
    },
    {
      "cell_type": "code",
      "source": [
        "[] c = 5\n",
        "b =6\n",
        "b==c\n",
        "b<c\n",
        "b>c\n",
        "b<=c\n",
        "b>=c"
      ],
      "metadata": {
        "colab": {
          "base_uri": "https://localhost:8080/"
        },
        "id": "ERX1lGTjSEk9",
        "outputId": "b9454dbf-e6c6-4fab-8626-0fd729d78989"
      },
      "execution_count": null,
      "outputs": [
        {
          "output_type": "execute_result",
          "data": {
            "text/plain": [
              "True"
            ]
          },
          "metadata": {},
          "execution_count": 66
        }
      ]
    },
    {
      "cell_type": "markdown",
      "source": [
        "b) Assignment Operators:\n",
        "It helps us to assign a value to the variation.\n",
        "Example:"
      ],
      "metadata": {
        "id": "AwWL4y5SSaWZ"
      }
    },
    {
      "cell_type": "code",
      "source": [
        "a = 6\n",
        "a+=5\n",
        "print(a)"
      ],
      "metadata": {
        "colab": {
          "base_uri": "https://localhost:8080/"
        },
        "id": "fyoFD5A2Xdk1",
        "outputId": "4cdcf01d-8693-4f1f-d2d0-2e42e0afae5e"
      },
      "execution_count": null,
      "outputs": [
        {
          "output_type": "stream",
          "name": "stdout",
          "text": [
            "11\n"
          ]
        }
      ]
    },
    {
      "cell_type": "markdown",
      "source": [
        "**5A)** Type Casting : which helps us to convert variables data type to another data type. **type() is used to convert a data type**"
      ],
      "metadata": {
        "id": "m7wzPvxeX3CY"
      }
    },
    {
      "cell_type": "code",
      "source": [
        "a = 5\n",
        "print(type(a))\n",
        "b = str(a)\n",
        "print(type(b))"
      ],
      "metadata": {
        "colab": {
          "base_uri": "https://localhost:8080/"
        },
        "id": "rTRBkxriYVRY",
        "outputId": "f93ae858-0d78-415f-b202-1860640a0e49"
      },
      "execution_count": null,
      "outputs": [
        {
          "output_type": "stream",
          "name": "stdout",
          "text": [
            "<class 'int'>\n",
            "<class 'str'>\n"
          ]
        }
      ]
    },
    {
      "cell_type": "markdown",
      "source": [],
      "metadata": {
        "id": "yU9UkRQIXywz"
      }
    },
    {
      "cell_type": "markdown",
      "source": [
        "**# 6A)** Conditional Statements : Helps to check the which condition is true. Examples : if,elif,if else, else if."
      ],
      "metadata": {
        "id": "Pav_DWvGYfLm"
      }
    },
    {
      "cell_type": "code",
      "source": [
        "if True:\n",
        "  print(\"You are good\")\n",
        "elif True:\n",
        "  print(\"You are good\")\n",
        "else:\n",
        "  print(\"You are not good\")"
      ],
      "metadata": {
        "colab": {
          "base_uri": "https://localhost:8080/"
        },
        "id": "q-QfQPtfjU1A",
        "outputId": "9d124366-fdc1-49f1-91a3-f29b04b1e6f8"
      },
      "execution_count": null,
      "outputs": [
        {
          "output_type": "stream",
          "name": "stdout",
          "text": [
            "You are good\n"
          ]
        }
      ]
    },
    {
      "cell_type": "markdown",
      "source": [
        "**7A)** Types in Loops are : a)For loop b)while loop\n",
        "a) For loop will execute the range of elements,strings,numbers. Example:for loop"
      ],
      "metadata": {
        "id": "uJ8cEFxNZqPQ"
      }
    },
    {
      "cell_type": "code",
      "source": [
        "i = 10\n",
        "for i in range(1,11):\n",
        "  print(i)"
      ],
      "metadata": {
        "colab": {
          "base_uri": "https://localhost:8080/"
        },
        "id": "hV93jihEaAXh",
        "outputId": "bacfd562-7f2e-4335-fa54-0ed5f454cc7f"
      },
      "execution_count": null,
      "outputs": [
        {
          "output_type": "stream",
          "name": "stdout",
          "text": [
            "1\n",
            "2\n",
            "3\n",
            "4\n",
            "5\n",
            "6\n",
            "7\n",
            "8\n",
            "9\n",
            "10\n"
          ]
        }
      ]
    },
    {
      "cell_type": "markdown",
      "source": [
        "b) while loop: Fist its check the condition, if its true then it will execute. If not it won't. Example:\n",
        "\n"
      ],
      "metadata": {
        "id": "-CnNFqM6akwd"
      }
    },
    {
      "cell_type": "code",
      "source": [
        "i=1\n",
        "while i<=10:\n",
        "  i+=1\n",
        "  print(i)"
      ],
      "metadata": {
        "colab": {
          "base_uri": "https://localhost:8080/"
        },
        "id": "4FktjiAtbZNU",
        "outputId": "699c669c-4bc9-4e03-8b39-bf57d7dab2c1"
      },
      "execution_count": null,
      "outputs": [
        {
          "output_type": "stream",
          "name": "stdout",
          "text": [
            "2\n",
            "3\n",
            "4\n",
            "5\n",
            "6\n",
            "7\n",
            "8\n",
            "9\n",
            "10\n",
            "11\n"
          ]
        }
      ]
    }
  ]
}